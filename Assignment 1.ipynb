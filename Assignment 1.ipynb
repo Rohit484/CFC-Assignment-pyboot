Q2. SOLUTION CODE
###########################################################################
principle=float(input("Enter the principle amount:"))
time=int(input("Enter the time(years):"))
rate=float(input("Enter the rate:"))
simple_interest=(principle*time*rate)/100
print("The simple interest is:",simple_interest)
#############################################################################

Q3. SOLUTION CODE 
##############################################################################
num1 = int(input("Enter 1st number: "))
num2 = int(input("Enter 2nd number: "))
i = 1
while(i <= num1 and i <= num2):
  if(num1 % i == 0 and num2 % i == 0):
    gcd = i
  i = i + 1
print("GCD is", gcd)
##############################################################################

Q4. SOLUTION CODE
##############################################################################
lst = []

for i in range(1,100):
    flag = 1
    for j in str(i):          
        if ord(j)%2 != 0:    
            flag = 0          
    if flag == 1:
        lst.append(str(i))    

print(",".join(lst))
###############################################################################

Q5.SOLUTION CODE
###############################################################################
n=int(input("Enter number:"))
count=0
while(n>0):
    count=count+1
    n=n//10
print("The number of digits in the number are:",count)
################################################################################

Q6.SOLUTION CODE
################################################################################
A.

def pypart(n):
    for i in range(0, n):
     
        
        for j in range(0, i+1):
            print("* ",end="")
      
        # ending line after each row
        print("\r")
n = 5
pypart(n)
#############################################################################

B.
def numpat(n):
    num = 1
    for i in range(0, n):
        num = 1
        for j in range(0, i+1):
            print(num, end=" ")
            num = num + 1
        print("\r")
n = 5
numpat(n)
###########################################################################

