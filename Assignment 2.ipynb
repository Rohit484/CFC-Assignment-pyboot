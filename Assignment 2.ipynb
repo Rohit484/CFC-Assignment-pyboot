Q1. SOLUTION CODE
########################################################################################
dec = 344

print("The decimal value of", dec, "is:")
print(bin(dec), "in binary.")
print(oct(dec), "in octal.")
print(hex(dec), "in hexadecimal.")
##########################################################################################

Q3. SOLUTION CODE
###########################################################################################

ch = input("Please Enter Your Own Character : ")

if(ch.isupper()):
    print("The Given Character ", ch, "is an Uppercase Alphabet")
elif(ch.islower()):
    print("The Given Character ", ch, "is a Lowercase Alphabet")
else:
    print("The Given Character ", ch, "is Not a Lower or Uppercase Alphabet")
##############################################################################################

Q4. SOLUTION CODE
###############################################################################################
num = 38105
reversed_num = 0

while num != 0:
    digit = num % 10
    reversed_num = reversed_num * 10 + digit
    num //= 10

print("Reversed Number: " + str(reversed_num))
#################################################################################################

Q9.SOLUTION CODE
#################################################################################################
def count_Primes_nums(n):
    ctr = 0
    
    for num in range(n):
        if num <= 1:
            continue
        for i in range(2, num):
            if (num % i) == 0:
                break
        else:
            ctr += 1

    return ctr

print(count_Primes_nums(10))
print(count_Primes_nums(100))
######################################################################################################

Q10.SOLUTION CODE
####################################################################################################
test_list = [1, 4, 5, 8, 10,2,6,7]
print ("Original list : " + str(test_list))
flag = 0
i = 1
while i < len(test_list):
    if(test_list[i] < test_list[i - 1]):
        flag = 1
    i += 1
if (not flag) :
    print ("Yes, List is sorted.")
else :
    print ("No, List is not sorted.")
##########################################################################################################


